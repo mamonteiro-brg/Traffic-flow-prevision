{
 "cells": [
  {
   "cell_type": "code",
   "execution_count": 20,
   "metadata": {},
   "outputs": [],
   "source": [
    "from weatherbit.api import Api\n",
    "api_key = \"0a89415282d24deebda0225ddb8bb388\"\n",
    "lat = 38.00\n",
    "lon = -125.75\n",
    "\n",
    "api = Api(api_key)\n",
    "\n",
    "# Set the granularity of the API - Options: ['daily','hourly','3hourly']\n",
    "# Will only affect forecast requests.\n",
    "api.set_granularity('daily')\n",
    "\n"
   ]
  },
  {
   "cell_type": "code",
   "execution_count": 21,
   "metadata": {},
   "outputs": [
    {
     "name": "stdout",
     "output_type": "stream",
     "text": [
      "[{'temp': 14.7, 'precip': 0.40332, 'datetime': datetime.datetime(2019, 4, 14, 0, 0)}, {'temp': 13.4, 'precip': 9.02441, 'datetime': datetime.datetime(2019, 4, 15, 0, 0)}, {'temp': 13.5, 'precip': 0.0078125, 'datetime': datetime.datetime(2019, 4, 16, 0, 0)}, {'temp': 14.6, 'precip': 9.15625, 'datetime': datetime.datetime(2019, 4, 17, 0, 0)}, {'temp': 14.5, 'precip': 11.3828, 'datetime': datetime.datetime(2019, 4, 18, 0, 0)}, {'temp': 14.9, 'precip': 0.125, 'datetime': datetime.datetime(2019, 4, 19, 0, 0)}, {'temp': 17.5, 'precip': 0, 'datetime': datetime.datetime(2019, 4, 20, 0, 0)}, {'temp': 18.5, 'precip': 0, 'datetime': datetime.datetime(2019, 4, 21, 0, 0)}, {'temp': 18.3, 'precip': 0, 'datetime': datetime.datetime(2019, 4, 22, 0, 0)}, {'temp': 14.6, 'precip': 0.5625, 'datetime': datetime.datetime(2019, 4, 23, 0, 0)}, {'temp': 10.7, 'precip': 0, 'datetime': datetime.datetime(2019, 4, 24, 0, 0)}, {'temp': 14, 'precip': 0, 'datetime': datetime.datetime(2019, 4, 25, 0, 0)}, {'temp': 16.3, 'precip': 0, 'datetime': datetime.datetime(2019, 4, 26, 0, 0)}, {'temp': 19.1, 'precip': 0, 'datetime': datetime.datetime(2019, 4, 27, 0, 0)}, {'temp': 20.6, 'precip': 0, 'datetime': datetime.datetime(2019, 4, 28, 0, 0)}, {'temp': 20.9, 'precip': 0, 'datetime': datetime.datetime(2019, 4, 29, 0, 0)}]\n"
     ]
    }
   ],
   "source": [
    "# Query by lat/lon\n",
    "forecast = api.get_forecast(lat=lat, lon=lon)\n",
    "\n",
    "# You can also query by city:\n",
    "forecast = api.get_forecast(city=\"Braga,PT\")\n",
    "\n",
    "# To get a daily forecast of temperature, and precipitation:\n",
    "print (forecast.get_series(['temp','precip']))\n"
   ]
  },
  {
   "cell_type": "code",
   "execution_count": 22,
   "metadata": {},
   "outputs": [
    {
     "name": "stdout",
     "output_type": "stream",
     "text": [
      "[{'temp': 14.7, 'precip': 0.40332, 'datetime': datetime.datetime(2019, 4, 14, 0, 0)}, {'temp': 13.4, 'precip': 9.02441, 'datetime': datetime.datetime(2019, 4, 15, 0, 0)}, {'temp': 13.5, 'precip': 0.0078125, 'datetime': datetime.datetime(2019, 4, 16, 0, 0)}, {'temp': 14.6, 'precip': 9.15625, 'datetime': datetime.datetime(2019, 4, 17, 0, 0)}, {'temp': 14.5, 'precip': 11.3828, 'datetime': datetime.datetime(2019, 4, 18, 0, 0)}, {'temp': 14.9, 'precip': 0.125, 'datetime': datetime.datetime(2019, 4, 19, 0, 0)}, {'temp': 17.5, 'precip': 0, 'datetime': datetime.datetime(2019, 4, 20, 0, 0)}, {'temp': 18.5, 'precip': 0, 'datetime': datetime.datetime(2019, 4, 21, 0, 0)}, {'temp': 18.3, 'precip': 0, 'datetime': datetime.datetime(2019, 4, 22, 0, 0)}, {'temp': 14.6, 'precip': 0.5625, 'datetime': datetime.datetime(2019, 4, 23, 0, 0)}, {'temp': 10.7, 'precip': 0, 'datetime': datetime.datetime(2019, 4, 24, 0, 0)}, {'temp': 14, 'precip': 0, 'datetime': datetime.datetime(2019, 4, 25, 0, 0)}, {'temp': 16.3, 'precip': 0, 'datetime': datetime.datetime(2019, 4, 26, 0, 0)}, {'temp': 19.1, 'precip': 0, 'datetime': datetime.datetime(2019, 4, 27, 0, 0)}, {'temp': 20.6, 'precip': 0, 'datetime': datetime.datetime(2019, 4, 28, 0, 0)}, {'temp': 20.9, 'precip': 0, 'datetime': datetime.datetime(2019, 4, 29, 0, 0)}]\n"
     ]
    }
   ],
   "source": [
    "# Or City, state, and country:\n",
    "forecast = api.get_forecast(city=\"Braga\", state=\"\", country=\"PT\")\n",
    "\n",
    "# To get a daily forecast of temperature, and precipitation:\n",
    "print (forecast.get_series(['temp','precip']))\n"
   ]
  },
  {
   "cell_type": "code",
   "execution_count": 29,
   "metadata": {},
   "outputs": [
    {
     "name": "stdout",
     "output_type": "stream",
     "text": [
      "[{'precip': 0, 'temp': 12.4, 'rh': 90.6, 'datetime': datetime.datetime(2019, 4, 1, 0, 0)}]\n"
     ]
    }
   ],
   "source": [
    "\n",
    "\n",
    "lat = 38.00\n",
    "lon = -125.75\n",
    "    \n",
    "# Get daily history by lat/lon:\n",
    "api.set_granularity('daily')\n",
    "history = api.get_history(lat=lat, lon=lon, start_date='2019-04-01',end_date='2019-04-02')\n",
    "\n",
    "# To get a daily time series of temperature, precipitation, and rh:\n",
    "print (history.get_series(['precip','temp','rh']))"
   ]
  },
  {
   "cell_type": "code",
   "execution_count": null,
   "metadata": {},
   "outputs": [],
   "source": [
    "# Get hourly history by lat/lon\n",
    "api.set_granularity('hourly')\n",
    "history = api.get_history(lat=lat, lon=lon, start_date='2018-02-01',end_date='2018-02-02')\n",
    "\n",
    "# To get an hourly time series of temperature, precipitation, and rh:\n",
    "print history.get_series(['precip','temp','rh'])"
   ]
  }
 ],
 "metadata": {
  "kernelspec": {
   "display_name": "Python 3",
   "language": "python",
   "name": "python3"
  },
  "language_info": {
   "codemirror_mode": {
    "name": "ipython",
    "version": 3
   },
   "file_extension": ".py",
   "mimetype": "text/x-python",
   "name": "python",
   "nbconvert_exporter": "python",
   "pygments_lexer": "ipython3",
   "version": "3.6.8"
  }
 },
 "nbformat": 4,
 "nbformat_minor": 2
}
