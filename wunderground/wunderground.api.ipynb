{
 "cells": [
  {
   "cell_type": "code",
   "execution_count": 34,
   "metadata": {},
   "outputs": [],
   "source": [
    "import sys\n",
    "import requests\n",
    "import csv\n",
    "from dateutil.rrule import *\n",
    "from dateutil.parser import *"
   ]
  },
  {
   "cell_type": "code",
   "execution_count": 35,
   "metadata": {},
   "outputs": [],
   "source": [
    "# Variables\n",
    "daySt = '20190101' # start date in yyyymmdd format, 20140710\n",
    "dayEnd = '20190101' # end date in yyyymmdd format, 20140712\n",
    "outPath = '/home/mamonteiro/Traffic-flow-prevision/dataset/Braga/' # output path\n",
    "station = 'IBRAGA474' # weather station ID\n",
    "api = '0a0569fe0662485f8569fe0662b85f58' # developer API key\n",
    "\n"
   ]
  },
  {
   "cell_type": "code",
   "execution_count": 12,
   "metadata": {},
   "outputs": [
    {
     "ename": "TypeError",
     "evalue": "a bytes-like object is required, not 'str'",
     "output_type": "error",
     "traceback": [
      "\u001b[0;31m---------------------------------------------------------------------------\u001b[0m",
      "\u001b[0;31mTypeError\u001b[0m                                 Traceback (most recent call last)",
      "\u001b[0;32m<ipython-input-12-7d95a897ca07>\u001b[0m in \u001b[0;36m<module>\u001b[0;34m\u001b[0m\n\u001b[1;32m      4\u001b[0m \u001b[0;32mwith\u001b[0m \u001b[0mopen\u001b[0m\u001b[0;34m(\u001b[0m\u001b[0moutPath\u001b[0m \u001b[0;34m+\u001b[0m \u001b[0mstation\u001b[0m \u001b[0;34m+\u001b[0m \u001b[0;34m'_'\u001b[0m \u001b[0;34m+\u001b[0m \u001b[0mdaySt\u001b[0m \u001b[0;34m+\u001b[0m \u001b[0;34m'-'\u001b[0m \u001b[0;34m+\u001b[0m \u001b[0mdayEnd\u001b[0m \u001b[0;34m+\u001b[0m \u001b[0;34m'.csv'\u001b[0m\u001b[0;34m,\u001b[0m \u001b[0;34m'wb'\u001b[0m\u001b[0;34m)\u001b[0m \u001b[0;32mas\u001b[0m \u001b[0mcsvfile\u001b[0m\u001b[0;34m:\u001b[0m\u001b[0;34m\u001b[0m\u001b[0;34m\u001b[0m\u001b[0m\n\u001b[1;32m      5\u001b[0m     \u001b[0mf\u001b[0m \u001b[0;34m=\u001b[0m \u001b[0mcsv\u001b[0m\u001b[0;34m.\u001b[0m\u001b[0mwriter\u001b[0m\u001b[0;34m(\u001b[0m\u001b[0mcsvfile\u001b[0m\u001b[0;34m)\u001b[0m\u001b[0;34m\u001b[0m\u001b[0;34m\u001b[0m\u001b[0m\n\u001b[0;32m----> 6\u001b[0;31m     \u001b[0mf\u001b[0m\u001b[0;34m.\u001b[0m\u001b[0mwriterow\u001b[0m\u001b[0;34m(\u001b[0m\u001b[0;34m[\u001b[0m\u001b[0;34m\"datetime\"\u001b[0m\u001b[0;34m,\u001b[0m \u001b[0;34m\"tempm\"\u001b[0m\u001b[0;34m,\u001b[0m \u001b[0;34m\"tempi\"\u001b[0m\u001b[0;34m,\u001b[0m \u001b[0;34m\"dewptm\"\u001b[0m\u001b[0;34m,\u001b[0m \u001b[0;34m\"dewpti\"\u001b[0m\u001b[0;34m,\u001b[0m \u001b[0;34m\"hum\"\u001b[0m\u001b[0;34m,\u001b[0m \u001b[0;34m\"wspdm\"\u001b[0m\u001b[0;34m,\u001b[0m \u001b[0;34m\"wspdi\"\u001b[0m\u001b[0;34m,\u001b[0m \u001b[0;34m\"wgustm\"\u001b[0m\u001b[0;34m,\u001b[0m \u001b[0;34m\"wgusti\"\u001b[0m\u001b[0;34m,\u001b[0m \u001b[0;34m\"wdird\"\u001b[0m\u001b[0;34m,\u001b[0m \u001b[0;34m\"wdire\"\u001b[0m\u001b[0;34m,\u001b[0m \u001b[0;34m\"vism\"\u001b[0m\u001b[0;34m,\u001b[0m \u001b[0;34m\"visi\"\u001b[0m\u001b[0;34m,\u001b[0m \u001b[0;34m\"pressurem\"\u001b[0m\u001b[0;34m,\u001b[0m \u001b[0;34m\"pressurei\"\u001b[0m\u001b[0;34m,\u001b[0m \u001b[0;34m\"windchillm\"\u001b[0m\u001b[0;34m,\u001b[0m \u001b[0;34m\"windchilli\"\u001b[0m\u001b[0;34m,\u001b[0m \u001b[0;34m\"heatindexm\"\u001b[0m\u001b[0;34m,\u001b[0m \u001b[0;34m\"heatindexi\"\u001b[0m\u001b[0;34m,\u001b[0m \u001b[0;34m\"precipm\"\u001b[0m\u001b[0;34m,\u001b[0m \u001b[0;34m\"precipi\"\u001b[0m\u001b[0;34m,\u001b[0m \u001b[0;34m\"conds\"\u001b[0m\u001b[0;34m,\u001b[0m \u001b[0;34m\"fog\"\u001b[0m\u001b[0;34m,\u001b[0m \u001b[0;34m\"rain\"\u001b[0m\u001b[0;34m,\u001b[0m \u001b[0;34m\"snow\"\u001b[0m\u001b[0;34m,\u001b[0m \u001b[0;34m\"hail\"\u001b[0m\u001b[0;34m,\u001b[0m \u001b[0;34m\"thunder\"\u001b[0m\u001b[0;34m,\u001b[0m \u001b[0;34m\"tornado\"\u001b[0m\u001b[0;34m]\u001b[0m\u001b[0;34m)\u001b[0m\u001b[0;34m\u001b[0m\u001b[0;34m\u001b[0m\u001b[0m\n\u001b[0m\u001b[1;32m      7\u001b[0m     \u001b[0;31m# Create daily url, fetch json file, write to disk\u001b[0m\u001b[0;34m\u001b[0m\u001b[0;34m\u001b[0m\u001b[0;34m\u001b[0m\u001b[0m\n\u001b[1;32m      8\u001b[0m     \u001b[0;32mfor\u001b[0m \u001b[0mday\u001b[0m \u001b[0;32min\u001b[0m \u001b[0mdays\u001b[0m\u001b[0;34m:\u001b[0m\u001b[0;34m\u001b[0m\u001b[0;34m\u001b[0m\u001b[0m\n",
      "\u001b[0;31mTypeError\u001b[0m: a bytes-like object is required, not 'str'"
     ]
    }
   ],
   "source": [
    "# Create list of dates between start and end\n",
    "days = list(rrule(DAILY, dtstart=parse(daySt), until=parse(dayEnd)))\n",
    "\n",
    "with open(outPath + station + '_' + daySt + '-' + dayEnd + '.csv', 'wb') as csvfile:\n",
    "    f = csv.writer(csvfile)\n",
    "    f.writerow([\"datetime\", \"tempm\", \"tempi\", \"dewptm\", \"dewpti\", \"hum\", \"wspdm\", \"wspdi\", \"wgustm\", \"wgusti\", \"wdird\", \"wdire\", \"vism\", \"visi\", \"pressurem\", \"pressurei\", \"windchillm\", \"windchilli\", \"heatindexm\", \"heatindexi\", \"precipm\", \"precipi\", \"conds\", \"fog\", \"rain\", \"snow\", \"hail\", \"thunder\", \"tornado\"])\n",
    "    # Create daily url, fetch json file, write to disk\n",
    "    for day in days:\n",
    "        r = requests.get('http://api.wunderground.com/api/' + api + '/history_' + day.strftime(\"%Y%m%d\") + '/q/' + station + '.json')\n",
    "        data = r.json()['history']['observations']\n",
    "        for elem in data:\n",
    "            f.writerow([elem[\"utcdate\"][\"year\"] + elem[\"utcdate\"][\"mon\"] + elem[\"utcdate\"][\"mday\"] + 'T' + elem[\"utcdate\"][\"hour\"] + elem[\"utcdate\"][\"min\"], elem[\"tempm\"], elem[\"tempi\"], elem[\"dewptm\"], elem[\"dewpti\"], elem[\"hum\"], elem[\"wspdm\"], elem[\"wspdi\"], elem[\"wgustm\"], elem[\"wgusti\"], elem[\"wdird\"], elem[\"wdire\"], elem[\"vism\"], elem[\"visi\"], elem[\"pressurem\"], elem[\"pressurei\"], elem[\"windchillm\"], elem[\"windchilli\"], elem[\"heatindexm\"], elem[\"heatindexi\"], elem[\"precipm\"], elem[\"precipi\"], elem[\"conds\"], elem[\"fog\"], elem[\"rain\"], elem[\"snow\"], elem[\"hail\"], elem[\"thunder\"], elem[\"tornado\"]])"
   ]
  },
  {
   "cell_type": "code",
   "execution_count": 38,
   "metadata": {},
   "outputs": [
    {
     "name": "stdout",
     "output_type": "stream",
     "text": [
      "b'\\n{\\n  \"response\": {\\n  \"version\":\"0.1\",\\n  \"termsofService\":\"http://www.wunderground.com/weather/api/d/terms.html\",\\n  \"features\": {\\n  }\\n\\t\\t,\\n\\t\"error\": {\\n\\t\\t\"type\": \"keynotfound\"\\n\\t\\t,\"description\": \"this key does not exist\"\\n\\t}\\n\\t}\\n}\\n'\n"
     ]
    }
   ],
   "source": [
    "# Create list of dates between start and end\n",
    "days = list(rrule(DAILY, dtstart=parse(daySt), until=parse(dayEnd)))\n",
    "\n",
    "# Create daily url, fetch json file, write to disk\n",
    "for day in days:\n",
    "    r = requests.get('http://api.wunderground.com/api/' + api + '/history_' + day.strftime(\"%Y%m%d\") + '/q/' + station + '.json')\n",
    "    with open(outPath + station + '_' + day.strftime(\"%Y%m%d\") + '.json', 'w') as outfile:\n",
    "        print(r.content)"
   ]
  },
  {
   "cell_type": "code",
   "execution_count": null,
   "metadata": {},
   "outputs": [],
   "source": []
  },
  {
   "cell_type": "code",
   "execution_count": null,
   "metadata": {},
   "outputs": [],
   "source": []
  }
 ],
 "metadata": {
  "kernelspec": {
   "display_name": "Python 3",
   "language": "python",
   "name": "python3"
  },
  "language_info": {
   "codemirror_mode": {
    "name": "ipython",
    "version": 3
   },
   "file_extension": ".py",
   "mimetype": "text/x-python",
   "name": "python",
   "nbconvert_exporter": "python",
   "pygments_lexer": "ipython3",
   "version": "3.6.8"
  }
 },
 "nbformat": 4,
 "nbformat_minor": 2
}
